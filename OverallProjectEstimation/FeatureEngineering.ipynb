{
 "cells": [
  {
   "cell_type": "code",
   "execution_count": 28,
   "metadata": {},
   "outputs": [
    {
     "name": "stdout",
     "output_type": "stream",
     "text": [
      "\n",
      "Processing repository: Hyperledger ...\n",
      "Processing repository: SecondLife ...\n",
      "\n"
     ]
    },
    {
     "name": "stderr",
     "output_type": "stream",
     "text": [
      "/Users/diegodias/Documents/Projects/JiraDataset/FeatureCleaning/CleanDSDTale.py:394: FutureWarning:\n",
      "\n",
      "The behavior of DataFrame concatenation with empty or all-NA entries is deprecated. In a future version, this will no longer exclude empty or all-NA columns when determining the result dtypes. To retain the old behavior, exclude the relevant entries before the concat operation.\n",
      "\n",
      "/Users/diegodias/Documents/Projects/JiraDataset/FeatureCleaning/CleanDSDTale.py:394: FutureWarning:\n",
      "\n",
      "The behavior of DataFrame concatenation with empty or all-NA entries is deprecated. In a future version, this will no longer exclude empty or all-NA columns when determining the result dtypes. To retain the old behavior, exclude the relevant entries before the concat operation.\n",
      "\n"
     ]
    },
    {
     "name": "stdout",
     "output_type": "stream",
     "text": [
      "Data processed. Launching D-Tale session...\n"
     ]
    },
    {
     "name": "stderr",
     "output_type": "stream",
     "text": [
      "/opt/anaconda3/envs/my_mongo_env/lib/python3.9/site-packages/dtale/utils.py:911: FutureWarning:\n",
      "\n",
      "Setting an item of incompatible dtype is deprecated and will raise in a future error of pandas. Value '<DatetimeArray>\n",
      "['2011-01-27 09:28:42', '2013-09-04 20:00:43', '2014-12-01 19:49:44',\n",
      " '2013-09-04 14:16:28', '2011-09-19 14:24:17', '2011-03-18 15:34:24',\n",
      " '2014-03-06 20:08:14', '2011-04-26 12:41:56', '2010-09-17 19:57:06',\n",
      " '2010-10-07 13:27:41',\n",
      " ...\n",
      " '2019-10-08 11:47:56', '2018-09-11 16:22:44', '2021-03-15 19:37:10',\n",
      " '2019-07-30 02:42:05', '2020-01-16 13:32:12', '2019-08-31 14:22:12',\n",
      " '2019-10-08 13:53:43', '2018-05-31 01:36:23', '2019-03-08 16:33:04',\n",
      " '2017-03-14 20:30:32']\n",
      "Length: 258, dtype: datetime64[ns]' has dtype incompatible with datetime64[ns, UTC], please explicitly cast to a compatible dtype first.\n",
      "\n",
      "/opt/anaconda3/envs/my_mongo_env/lib/python3.9/site-packages/dtale/utils.py:911: FutureWarning:\n",
      "\n",
      "Setting an item of incompatible dtype is deprecated and will raise in a future error of pandas. Value '<DatetimeArray>\n",
      "['2010-09-23 23:20:32', '2013-03-30 20:33:52', '2014-08-17 17:14:13',\n",
      " '2013-08-27 19:28:58', '2011-05-31 16:07:26', '2010-11-22 17:41:00',\n",
      " '2011-12-19 20:28:19', '2010-07-15 03:06:51', '2010-06-30 09:04:50',\n",
      " '2010-09-24 12:42:04',\n",
      " ...\n",
      " '2017-04-19 00:41:08', '2018-08-27 15:40:48', '2017-06-13 20:20:00',\n",
      " '2018-02-12 22:59:53', '2017-02-26 21:56:04', '2019-04-12 14:23:43',\n",
      " '2018-08-22 12:27:22', '2018-05-25 19:40:22', '2019-02-26 15:12:54',\n",
      " '2017-03-10 21:42:12']\n",
      "Length: 258, dtype: datetime64[ns]' has dtype incompatible with datetime64[ns, UTC], please explicitly cast to a compatible dtype first.\n",
      "\n",
      "/opt/anaconda3/envs/my_mongo_env/lib/python3.9/site-packages/dtale/utils.py:911: FutureWarning:\n",
      "\n",
      "Setting an item of incompatible dtype is deprecated and will raise in a future error of pandas. Value '<DatetimeArray>\n",
      "['2011-04-08 17:04:44', '2014-02-28 01:45:26', '2014-12-01 19:53:44',\n",
      " '2014-02-28 02:09:35', '2011-10-18 21:34:47', '2011-10-05 19:59:52',\n",
      " '2017-07-01 20:10:03', '2011-05-24 21:59:12', '2012-04-17 17:09:07',\n",
      " '2012-04-17 17:08:39',\n",
      " ...\n",
      " '2020-03-03 21:07:33', '2018-09-11 16:22:44', '2021-03-15 19:37:17',\n",
      " '2019-07-30 02:42:05', '2020-01-16 13:32:28', '2019-08-31 14:22:12',\n",
      " '2019-10-08 13:53:43', '2018-05-31 01:36:23', '2019-03-08 16:33:04',\n",
      " '2018-07-20 14:11:58']\n",
      "Length: 258, dtype: datetime64[ns]' has dtype incompatible with datetime64[ns, UTC], please explicitly cast to a compatible dtype first.\n",
      "\n"
     ]
    },
    {
     "name": "stdout",
     "output_type": "stream",
     "text": [
      "✅ D-Tale session launched successfully.\n",
      "   fields.project.id  fields.project.name  time_to_resolution_mean  \\\n",
      "0            10001.0             Sawtooth              6275.539630   \n",
      "1            10002.0               Fabric              2270.089098   \n",
      "2            10100.0  Blockchain Explorer              2157.222698   \n",
      "3            10200.0                Cello              1469.208924   \n",
      "4            10244.0            Snowstorm              4962.281944   \n",
      "\n",
      "   time_to_resolution_median  time_to_resolution_min  time_to_resolution_max  \\\n",
      "0                 880.896250              339.057222            32903.286111   \n",
      "1                 409.525833                0.033333            25287.602222   \n",
      "2                 354.641944              139.496667            12161.649722   \n",
      "3                 166.355972               27.941944             8027.217778   \n",
      "4                2781.890000              312.760278            19391.665278   \n",
      "\n",
      "   time_to_resolution_sum  changelog_count_status_sum  \\\n",
      "0            37653.237778                        13.0   \n",
      "1           329162.919167                       483.0   \n",
      "2            15100.558889                        16.0   \n",
      "3            11753.671389                        24.0   \n",
      "4            64509.665278                       128.0   \n",
      "\n",
      "   changelog_count_status_mean  changelog_count_assignee_sum  \\\n",
      "0                     2.166667                           3.0   \n",
      "1                     3.331034                          98.0   \n",
      "2                     2.285714                           7.0   \n",
      "3                     3.000000                           9.0   \n",
      "4                     9.846154                          62.0   \n",
      "\n",
      "   changelog_count_assignee_mean  comment_count_sum  comment_count_mean  \\\n",
      "0                       0.500000                1.0            0.166667   \n",
      "1                       0.675862              297.0            2.048276   \n",
      "2                       1.000000               16.0            2.285714   \n",
      "3                       1.125000                9.0            1.125000   \n",
      "4                       4.769231              119.0            9.153846   \n",
      "\n",
      "   item_count  \n",
      "0           6  \n",
      "1         145  \n",
      "2           7  \n",
      "3           8  \n",
      "4          13  \n"
     ]
    },
    {
     "name": "stderr",
     "output_type": "stream",
     "text": [
      "huggingface/tokenizers: The current process just got forked, after parallelism has already been used. Disabling parallelism to avoid deadlocks...\n",
      "To disable this warning, you can either:\n",
      "\t- Avoid using `tokenizers` before the fork if possible\n",
      "\t- Explicitly set the environment variable TOKENIZERS_PARALLELISM=(true | false)\n",
      "/var/folders/lt/2k0m0j2d6xqg0wz_673wgqt00000gn/T/ipykernel_3225/1749906111.py:18: PerformanceWarning:\n",
      "\n",
      "DataFrame is highly fragmented.  This is usually the result of calling `frame.insert` many times, which has poor performance.  Consider joining all columns at once using pd.concat(axis=1) instead. To get a de-fragmented frame, use `newframe = frame.copy()`\n",
      "\n",
      "huggingface/tokenizers: The current process just got forked, after parallelism has already been used. Disabling parallelism to avoid deadlocks...\n",
      "To disable this warning, you can either:\n",
      "\t- Avoid using `tokenizers` before the fork if possible\n",
      "\t- Explicitly set the environment variable TOKENIZERS_PARALLELISM=(true | false)\n"
     ]
    },
    {
     "name": "stderr",
     "output_type": "stream",
     "text": [
      "2025-02-25 07:44:21,282 - INFO     - Executing shutdown...\n",
      "2025-02-25 07:44:21,283 - INFO     - Not running with the Werkzeug Server, exiting by searching gc for BaseWSGIServer\n",
      "/opt/anaconda3/envs/my_mongo_env/lib/python3.9/site-packages/dtale/app.py:445: FutureWarning:\n",
      "\n",
      "`torch.distributed.reduce_op` is deprecated, please use `torch.distributed.ReduceOp` instead\n",
      "\n"
     ]
    }
   ],
   "source": [
    "import os\n",
    "import pandas as pd\n",
    "import dtale\n",
    "import sys, os\n",
    "project_root = os.path.abspath(\"..\")  # adjust based on your directory structure\n",
    "if project_root not in sys.path:\n",
    "    sys.path.append(project_root)\n",
    "    \n",
    "from FeatureCleaning.CleanDSDTale import export_clean_df\n",
    "\n",
    "\n",
    "def main():\n",
    "    \n",
    "    # 1. Load the cleaned issue-level DataFrame\n",
    "    df = export_clean_df()\n",
    "    \n",
    "    # 2. Compute time-to-resolution in hours\n",
    "    df['time_to_resolution'] = (\n",
    "        pd.to_datetime(df['fields.resolutiondate']) - \n",
    "        pd.to_datetime(df['fields.created'])\n",
    "    ).dt.total_seconds() / 3600  # in hours\n",
    "\n",
    "    item_counts_per_project = df.groupby(\"fields.project.id\").size().reset_index(name=\"item_count\")\n",
    "\n",
    "    # 3. Aggregate overall project-level features (transformations and mean/median values)\n",
    "    agg_df = df.groupby(['fields.project.id', 'fields.project.name']).agg({\n",
    "        'time_to_resolution': ['mean', 'median', 'min', 'max', 'sum'],\n",
    "        'changelog_count_status': ['sum', 'mean'],\n",
    "        'changelog_count_assignee': ['sum', 'mean'],\n",
    "        'comment_count': ['sum', 'mean'],\n",
    "    }).reset_index()\n",
    "    \n",
    "    # Flatten the MultiIndex columns\n",
    "    agg_df.columns = [\n",
    "        '_'.join(col).strip() if col[1] else col[0]\n",
    "        for col in agg_df.columns.values\n",
    "    ]\n",
    "\n",
    "    df = pd.merge(agg_df, item_counts_per_project, on=\"fields.project.id\", how=\"left\")\n",
    "    \n",
    "    # 6. Optionally display the final DataFrame using D-Tale for interactive exploration\n",
    "    print(df.head())\n",
    "    d = dtale.show(df, ignore_duplicate=True, allow_cell_edits=False)\n",
    "    d.open_browser()\n",
    "\n",
    "if __name__ == \"__main__\":\n",
    "    main()"
   ]
  }
 ],
 "metadata": {
  "kernelspec": {
   "display_name": "my_mongo_env",
   "language": "python",
   "name": "python3"
  },
  "language_info": {
   "codemirror_mode": {
    "name": "ipython",
    "version": 3
   },
   "file_extension": ".py",
   "mimetype": "text/x-python",
   "name": "python",
   "nbconvert_exporter": "python",
   "pygments_lexer": "ipython3",
   "version": "3.9.18"
  }
 },
 "nbformat": 4,
 "nbformat_minor": 2
}
